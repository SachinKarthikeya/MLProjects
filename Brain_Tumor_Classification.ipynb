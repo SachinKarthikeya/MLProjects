{
 "cells": [
  {
   "cell_type": "code",
   "execution_count": 1,
   "metadata": {},
   "outputs": [],
   "source": [
    "import tensorflow as tf\n",
    "from tensorflow.keras.preprocessing.image import ImageDataGenerator\n",
    "from tensorflow.keras.applications import ResNet50\n",
    "from tensorflow.keras.layers import Dense, GlobalAveragePooling2D\n",
    "from tensorflow.keras.models import Model\n",
    "from tensorflow.keras.preprocessing.image import load_img, img_to_array\n",
    "import numpy as np\n",
    "import matplotlib.pyplot as plt"
   ]
  },
  {
   "cell_type": "code",
   "execution_count": 26,
   "metadata": {},
   "outputs": [],
   "source": [
    "img_height, img_width = 224, 224\n",
    "batch_size = 32\n",
    "\n",
    "train_datagen = ImageDataGenerator(rescale=1./255)\n",
    "val_datagen = ImageDataGenerator(rescale=1./255)"
   ]
  },
  {
   "cell_type": "code",
   "execution_count": 27,
   "metadata": {},
   "outputs": [
    {
     "name": "stdout",
     "output_type": "stream",
     "text": [
      "Found 5712 images belonging to 4 classes.\n",
      "Found 1311 images belonging to 4 classes.\n"
     ]
    }
   ],
   "source": [
    "train_generator = train_datagen.flow_from_directory(\n",
    "    '/Users/sachinkarthikeya/Desktop/Projects/Brain_Tumor_Project/dataset/Training',\n",
    "    target_size=(img_height, img_width),\n",
    "    batch_size = batch_size,\n",
    "    class_mode = 'categorical',\n",
    ")\n",
    "\n",
    "validation_generator = val_datagen.flow_from_directory(\n",
    "    '/Users/sachinkarthikeya/Desktop/Projects/Brain_Tumor_Project/dataset/Validation',\n",
    "    target_size=(img_height, img_width),\n",
    "    batch_size = batch_size,\n",
    "    class_mode = 'categorical',\n",
    ")"
   ]
  },
  {
   "cell_type": "code",
   "execution_count": 28,
   "metadata": {},
   "outputs": [
    {
     "name": "stdout",
     "output_type": "stream",
     "text": [
      "Epoch 1/10\n",
      "\u001b[1m179/179\u001b[0m \u001b[32m━━━━━━━━━━━━━━━━━━━━\u001b[0m\u001b[37m\u001b[0m \u001b[1m206s\u001b[0m 1s/step - accuracy: 0.4687 - loss: 1.2444 - val_accuracy: 0.5881 - val_loss: 0.9982\n",
      "Epoch 2/10\n",
      "\u001b[1m179/179\u001b[0m \u001b[32m━━━━━━━━━━━━━━━━━━━━\u001b[0m\u001b[37m\u001b[0m \u001b[1m204s\u001b[0m 1s/step - accuracy: 0.6425 - loss: 0.8641 - val_accuracy: 0.6735 - val_loss: 0.9338\n",
      "Epoch 3/10\n",
      "\u001b[1m179/179\u001b[0m \u001b[32m━━━━━━━━━━━━━━━━━━━━\u001b[0m\u001b[37m\u001b[0m \u001b[1m206s\u001b[0m 1s/step - accuracy: 0.7115 - loss: 0.7358 - val_accuracy: 0.5217 - val_loss: 0.9974\n",
      "Epoch 4/10\n",
      "\u001b[1m179/179\u001b[0m \u001b[32m━━━━━━━━━━━━━━━━━━━━\u001b[0m\u001b[37m\u001b[0m \u001b[1m207s\u001b[0m 1s/step - accuracy: 0.7056 - loss: 0.7172 - val_accuracy: 0.6865 - val_loss: 0.8218\n",
      "Epoch 5/10\n",
      "\u001b[1m179/179\u001b[0m \u001b[32m━━━━━━━━━━━━━━━━━━━━\u001b[0m\u001b[37m\u001b[0m \u001b[1m208s\u001b[0m 1s/step - accuracy: 0.7458 - loss: 0.6527 - val_accuracy: 0.7162 - val_loss: 0.6849\n",
      "Epoch 6/10\n",
      "\u001b[1m179/179\u001b[0m \u001b[32m━━━━━━━━━━━━━━━━━━━━\u001b[0m\u001b[37m\u001b[0m \u001b[1m210s\u001b[0m 1s/step - accuracy: 0.7557 - loss: 0.6051 - val_accuracy: 0.6949 - val_loss: 0.7225\n",
      "Epoch 7/10\n",
      "\u001b[1m179/179\u001b[0m \u001b[32m━━━━━━━━━━━━━━━━━━━━\u001b[0m\u001b[37m\u001b[0m \u001b[1m209s\u001b[0m 1s/step - accuracy: 0.7538 - loss: 0.6188 - val_accuracy: 0.7185 - val_loss: 0.7007\n",
      "Epoch 8/10\n",
      "\u001b[1m179/179\u001b[0m \u001b[32m━━━━━━━━━━━━━━━━━━━━\u001b[0m\u001b[37m\u001b[0m \u001b[1m209s\u001b[0m 1s/step - accuracy: 0.7639 - loss: 0.5874 - val_accuracy: 0.7285 - val_loss: 0.6314\n",
      "Epoch 9/10\n",
      "\u001b[1m179/179\u001b[0m \u001b[32m━━━━━━━━━━━━━━━━━━━━\u001b[0m\u001b[37m\u001b[0m \u001b[1m209s\u001b[0m 1s/step - accuracy: 0.7793 - loss: 0.5458 - val_accuracy: 0.7155 - val_loss: 0.6757\n",
      "Epoch 10/10\n",
      "\u001b[1m179/179\u001b[0m \u001b[32m━━━━━━━━━━━━━━━━━━━━\u001b[0m\u001b[37m\u001b[0m \u001b[1m209s\u001b[0m 1s/step - accuracy: 0.7804 - loss: 0.5527 - val_accuracy: 0.7368 - val_loss: 0.6072\n"
     ]
    },
    {
     "data": {
      "text/plain": [
       "<keras.src.callbacks.history.History at 0x364070810>"
      ]
     },
     "execution_count": 28,
     "metadata": {},
     "output_type": "execute_result"
    }
   ],
   "source": [
    "base_model = base_model = ResNet50(weights='/Users/sachinkarthikeya/Desktop/Projects/Brain_Tumor_Project/resnet50_weights_tf_dim_ordering_tf_kernels_notop.h5', include_top=False, input_shape=(img_height, img_width, 3))\n",
    "\n",
    "\n",
    "x = base_model.output\n",
    "x = GlobalAveragePooling2D()(x)\n",
    "x = Dense(1024, activation='relu')(x)\n",
    "predictions = Dense(4, activation='softmax')(x)\n",
    "\n",
    "model = Model(inputs=base_model.input, outputs=predictions)\n",
    "\n",
    "for layer in base_model.layers:\n",
    "    layer.trainable = False\n",
    "\n",
    "model.compile(optimizer='adam', loss='categorical_crossentropy', metrics=['accuracy'])\n",
    "\n",
    "model.fit(train_generator, validation_data=validation_generator, epochs=10)"
   ]
  },
  {
   "cell_type": "code",
   "execution_count": 29,
   "metadata": {},
   "outputs": [
    {
     "name": "stdout",
     "output_type": "stream",
     "text": [
      "Epoch 1/10\n",
      "\u001b[1m179/179\u001b[0m \u001b[32m━━━━━━━━━━━━━━━━━━━━\u001b[0m\u001b[37m\u001b[0m \u001b[1m964s\u001b[0m 5s/step - accuracy: 0.5267 - loss: 17.1157 - val_accuracy: 0.3089 - val_loss: 69.3745\n",
      "Epoch 2/10\n",
      "\u001b[1m179/179\u001b[0m \u001b[32m━━━━━━━━━━━━━━━━━━━━\u001b[0m\u001b[37m\u001b[0m \u001b[1m959s\u001b[0m 5s/step - accuracy: 0.9064 - loss: 0.4475 - val_accuracy: 0.3089 - val_loss: 62.0049\n",
      "Epoch 3/10\n",
      "\u001b[1m179/179\u001b[0m \u001b[32m━━━━━━━━━━━━━━━━━━━━\u001b[0m\u001b[37m\u001b[0m \u001b[1m945s\u001b[0m 5s/step - accuracy: 0.9498 - loss: 0.1666 - val_accuracy: 0.3097 - val_loss: 50.1157\n",
      "Epoch 4/10\n",
      "\u001b[1m179/179\u001b[0m \u001b[32m━━━━━━━━━━━━━━━━━━━━\u001b[0m\u001b[37m\u001b[0m \u001b[1m1231s\u001b[0m 7s/step - accuracy: 0.9759 - loss: 0.0743 - val_accuracy: 0.3105 - val_loss: 39.2158\n",
      "Epoch 5/10\n",
      "\u001b[1m179/179\u001b[0m \u001b[32m━━━━━━━━━━━━━━━━━━━━\u001b[0m\u001b[37m\u001b[0m \u001b[1m930s\u001b[0m 5s/step - accuracy: 0.9804 - loss: 0.0512 - val_accuracy: 0.3112 - val_loss: 27.5042\n",
      "Epoch 6/10\n",
      "\u001b[1m179/179\u001b[0m \u001b[32m━━━━━━━━━━━━━━━━━━━━\u001b[0m\u001b[37m\u001b[0m \u001b[1m1036s\u001b[0m 6s/step - accuracy: 0.9906 - loss: 0.0349 - val_accuracy: 0.3852 - val_loss: 11.0304\n",
      "Epoch 7/10\n",
      "\u001b[1m179/179\u001b[0m \u001b[32m━━━━━━━━━━━━━━━━━━━━\u001b[0m\u001b[37m\u001b[0m \u001b[1m926s\u001b[0m 5s/step - accuracy: 0.9924 - loss: 0.0307 - val_accuracy: 0.4340 - val_loss: 9.7106\n",
      "Epoch 8/10\n",
      "\u001b[1m179/179\u001b[0m \u001b[32m━━━━━━━━━━━━━━━━━━━━\u001b[0m\u001b[37m\u001b[0m \u001b[1m1134s\u001b[0m 6s/step - accuracy: 0.9963 - loss: 0.0151 - val_accuracy: 0.5011 - val_loss: 7.0745\n",
      "Epoch 9/10\n",
      "\u001b[1m179/179\u001b[0m \u001b[32m━━━━━━━━━━━━━━━━━━━━\u001b[0m\u001b[37m\u001b[0m \u001b[1m932s\u001b[0m 5s/step - accuracy: 0.9958 - loss: 0.0169 - val_accuracy: 0.6735 - val_loss: 3.0272\n",
      "Epoch 10/10\n",
      "\u001b[1m179/179\u001b[0m \u001b[32m━━━━━━━━━━━━━━━━━━━━\u001b[0m\u001b[37m\u001b[0m \u001b[1m924s\u001b[0m 5s/step - accuracy: 0.9973 - loss: 0.0112 - val_accuracy: 0.9108 - val_loss: 0.4834\n"
     ]
    },
    {
     "data": {
      "text/plain": [
       "<keras.src.callbacks.history.History at 0x366d2f290>"
      ]
     },
     "execution_count": 29,
     "metadata": {},
     "output_type": "execute_result"
    }
   ],
   "source": [
    "for layer in base_model.layers:\n",
    "    layer.trainable = True\n",
    "\n",
    "model.compile(optimizer=tf.keras.optimizers.Adam(1e-5), loss='categorical_crossentropy', metrics=['accuracy'])\n",
    "\n",
    "model.fit(train_generator, validation_data=validation_generator, epochs=10)"
   ]
  },
  {
   "cell_type": "code",
   "execution_count": 30,
   "metadata": {},
   "outputs": [
    {
     "name": "stdout",
     "output_type": "stream",
     "text": [
      "\u001b[1m41/41\u001b[0m \u001b[32m━━━━━━━━━━━━━━━━━━━━\u001b[0m\u001b[37m\u001b[0m \u001b[1m38s\u001b[0m 919ms/step - accuracy: 0.9084 - loss: 0.6333\n",
      "Final Test Accuracy: 91.08%\n"
     ]
    }
   ],
   "source": [
    "test_loss, test_acc = model.evaluate(validation_generator)\n",
    "\n",
    "print(f\"Final Test Accuracy: {test_acc*100:.2f}%\")"
   ]
  },
  {
   "cell_type": "code",
   "execution_count": 31,
   "metadata": {},
   "outputs": [
    {
     "name": "stderr",
     "output_type": "stream",
     "text": [
      "WARNING:absl:You are saving your model as an HDF5 file via `model.save()` or `keras.saving.save_model(model)`. This file format is considered legacy. We recommend using instead the native Keras format, e.g. `model.save('my_model.keras')` or `keras.saving.save_model(model, 'my_model.keras')`. \n"
     ]
    }
   ],
   "source": [
    "model.save('brain_tumor_classification.h5')"
   ]
  },
  {
   "cell_type": "code",
   "execution_count": null,
   "metadata": {},
   "outputs": [],
   "source": [
    "model = tf.keras.models.load_model('/Users/sachinkarthikeya/Desktop/Projects/Brain_Tumor_Project/tumor_classification_model.h5')"
   ]
  },
  {
   "cell_type": "code",
   "execution_count": null,
   "metadata": {},
   "outputs": [],
   "source": [
    "class_labels = ['glioma', 'meningioma', 'notumor', 'pituitary']"
   ]
  },
  {
   "cell_type": "code",
   "execution_count": null,
   "metadata": {},
   "outputs": [],
   "source": [
    "def classify_image(image_path):\n",
    "    img = load_img(image_path, target_size=(224, 224))\n",
    "\n",
    "    plt.imshow(img)\n",
    "    plt.axis('off')\n",
    "    plt.show()\n",
    "\n",
    "    img_array = img_to_array(img)\n",
    "\n",
    "    img_array = np.expand_dims(img_array, axis=0)\n",
    "\n",
    "    img_array /= 255.0\n",
    "\n",
    "    predictions = model.predict(img_array)\n",
    "\n",
    "    predicted_class_index = np.argmax(predictions[0])\n",
    "\n",
    "    predicted_label = class_labels[predicted_class_index]\n",
    "\n",
    "    print(f\"The Tumor in the MRI image is classified as: {predicted_label}\")\n",
    "\n",
    "    if predicted_label.lower() == 'glioma':\n",
    "        print(\"\"\"\n",
    "        A glioma is a tumor that forms when glial cells grow out of control. Normally, these cells support nerves and help your central nervous system work. \n",
    "        Gliomas usually grow in the brain, but can also form in the spinal cord.\n",
    "\n",
    "        - Symptoms: \n",
    "            - Headaches\n",
    "            - Seizures\n",
    "            - Personality changes\n",
    "            - Weakness in the arms, face, or legss\n",
    "            - Numbness\n",
    "            - Problems with speech\n",
    "\n",
    "        Gliomas can affect all ages, but they are most often seen in adults. \n",
    "        Gliomas are slightly more likely to occur in men than in women, and more common in Caucasians than in African Americans.\n",
    "        \"\"\")\n",
    "\n",
    "    elif predicted_label.lower() == 'meningioma':\n",
    "        print(\"\"\"\n",
    "        A meningioma is a tumor that grows from the membranes that surround the brain and spinal cord, called the meninges.\n",
    "        A meningioma is not a brain tumor, but it may press on the nearby brain, nerves and vessels.\n",
    "              \n",
    "        - Symptoms:\n",
    "            - Changes in vision, such as seeing double or blurriness.\n",
    "            - Headaches that worsen with time.\n",
    "            - Hearing loss or ringing in the ears.\n",
    "            - Memory loss.\n",
    "            - Loss of smell.\n",
    "            - Seizures.\n",
    "            - Weakness in your arms or legs.\n",
    "        \"\"\")\n",
    "\n",
    "    elif predicted_label.lower() == 'pituitary':\n",
    "        print(\"\"\"\n",
    "        A pituitary tumor is an abnormal growth in the pituitary gland. Most pituitary tumors are not cancer (benign). \n",
    "        The pituitary is a small gland located at the base of the brain. It makes hormones that affect many other glands and many functions in your body.\n",
    "              \n",
    "        - Symptoms:\n",
    "            - Weight gain and fatty tissue \n",
    "            - Rounded face.\n",
    "            - Stretch marks.\n",
    "            - Thin skin that bruises easily.\n",
    "            - Thinning of the arms and legs with muscle weakness.\n",
    "            - Thicker or more visible body hair.\n",
    "              \n",
    "-       They are more common in adults, particularly between the ages of 30 and 50, and are slightly more common in women than men.\n",
    "        \"\"\")\n",
    "\n",
    "image_path = '/Users/sachinkarthikeya/Desktop/Projects/Brain_Tumor_Project/dataset/Validation/pituitary/Te-pi_0017.jpg'\n",
    "classify_image(image_path)"
   ]
  }
 ],
 "metadata": {
  "kernelspec": {
   "display_name": "Python 3",
   "language": "python",
   "name": "python3"
  },
  "language_info": {
   "codemirror_mode": {
    "name": "ipython",
    "version": 3
   },
   "file_extension": ".py",
   "mimetype": "text/x-python",
   "name": "python",
   "nbconvert_exporter": "python",
   "pygments_lexer": "ipython3",
   "version": "3.11.1"
  }
 },
 "nbformat": 4,
 "nbformat_minor": 2
}
